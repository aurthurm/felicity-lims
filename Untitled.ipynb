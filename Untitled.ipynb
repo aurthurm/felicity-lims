{
 "cells": [
  {
   "cell_type": "code",
   "execution_count": 38,
   "id": "f56cc121-c53e-492f-82c5-69bf3845c7ae",
   "metadata": {},
   "outputs": [],
   "source": [
    "from xhtml2pdf import pisa\n",
    "from pdf2image import convert_from_bytes\n",
    "import io\n",
    "import base64\n",
    "from PIL import Image  # For resizing"
   ]
  },
  {
   "cell_type": "code",
   "execution_count": 39,
   "id": "941e1cdb-ac7c-4892-b117-fde7afdf8502",
   "metadata": {},
   "outputs": [],
   "source": [
    "def convert_html_to_pdf_bytes(html_string):\n",
    "    \"\"\"Convert HTML to PDF and return bytes.\"\"\"\n",
    "    pdf_bytes = io.BytesIO()\n",
    "    pisa_status = pisa.CreatePDF(html_string, dest=pdf_bytes)\n",
    "    \n",
    "    if pisa_status.err:\n",
    "        return None  # PDF conversion failed\n",
    "\n",
    "    return pdf_bytes.getvalue()"
   ]
  },
  {
   "cell_type": "code",
   "execution_count": 69,
   "id": "25aeb1dd-f183-49ae-9dd2-11651b9b24b3",
   "metadata": {},
   "outputs": [],
   "source": [
    "def get_compressed_thumbnail_base64(pdf_bytes, thumbnail_size=(200, 500), quality=60):\n",
    "    \"\"\"Generate a base64-encoded compressed thumbnail preview of the first page.\"\"\"\n",
    "    images = convert_from_bytes(pdf_bytes, first_page=1, last_page=1)\n",
    "    \n",
    "    if images:\n",
    "        img = images[0]  # First page image\n",
    "        img.thumbnail(thumbnail_size)  # Resize image to thumbnail\n",
    "\n",
    "        img_bytes = io.BytesIO()\n",
    "        img.save(img_bytes, format=\"JPEG\", quality=quality, optimize=True) # ,   # Heavily compressed JPEG\n",
    "        img_base64 = base64.b64encode(img_bytes.getvalue()).decode(\"utf-8\")\n",
    "        return img_base64\n",
    "\n",
    "    return None"
   ]
  },
  {
   "cell_type": "code",
   "execution_count": 70,
   "id": "333dca09-0dfb-444d-b8f6-5b175c02c92b",
   "metadata": {},
   "outputs": [],
   "source": [
    "# HTML content\n",
    "html = '''\n",
    "<html>\n",
    "  <head>\n",
    "      <title>PDF Example</title>\n",
    "  </head>\n",
    "\n",
    "  <body>\n",
    "      <img style=\"margin-top: 30px;margin-bottom: 30px;\" vnode=\"true\" type=\"image\" id=\"oztu348e\" src=\"https://editor.umodoc.com/images/logo.svg\" width=\"381\" height=\"71\" left=\"0\" top=\"0\" draggable=\"false\" rotatable=\"false\" equalproportion=\"true\" flipx=\"false\" flipy=\"false\" uploaded=\"false\" error=\"true\" previewtype=\"image\"><h1 style=\"text-align: start\" id=\"td3bxo\" data-toc-id=\"td3bxo\"><b>Introduction dee</b></h1><p style=\"text-align: start; line-height: 1.75rem\">Umo Editor is open-source document editor based on Vue3 and Tiptap. Umo Editor provides comprehensive document editing capabilities and AI creation features, supports pagination, supports Markdown syntax, offers basic rich text editing functions, allows for the insertion of various node types in multiple formats, provides a variety of practical tools, and supports setting page styles. It also supports exporting in various formats, printing and print preview, block-level document editing, adding custom extensions, multi-language settings, and a dark theme.</p><img vnode=\"true\" type=\"image\" src=\"https://editor.umodoc.com/images/umo-editor@2x.png\" width=\"553\" height=\"421\" left=\"0\" top=\"0\" draggable=\"false\" rotatable=\"false\" equalproportion=\"true\" flipx=\"false\" flipy=\"false\" uploaded=\"false\" error=\"true\" previewtype=\"image\"><p style=\"text-align: start; line-height: 1.75rem\">As a standalone Vue3 plugin, Umo Editor can be easily integrated into any Vue3 project with zero configuration. For non-Vue3 projects, you can embed Umo Editor using an Iframe.</p><p style=\"text-align: start; line-height: 1.75rem\"><a target=\"_blank\" rel=\"noreferrer\" class=\"_text-primary-600 _underline _decoration-from-font [text-underline-position:from-font]\" href=\"https://editor.umodoc.com/en/docs\">Documentation</a> | <a target=\"_blank\" rel=\"noreferrer\" class=\"_text-primary-600 _underline _decoration-from-font [text-underline-position:from-font]\" href=\"https://editor.umodoc.com/cn/docs\">中文文档</a> | <a target=\"_blank\" rel=\"noreferrer\" class=\"_text-primary-600 _underline _decoration-from-font [text-underline-position:from-font]\" href=\"https://demo.umodoc.com/editor?lang=en-US\">Live Demo</a> | <a target=\"_blank\" rel=\"noreferrer\" class=\"_text-primary-600 _underline _decoration-from-font [text-underline-position:from-font]\" href=\"https://github.com/umodoc/editor\">GitHub</a> | <a target=\"_blank\" rel=\"noreferrer\" class=\"_text-primary-600 _underline _decoration-from-font [text-underline-position:from-font]\" href=\"https://www.npmjs.com/package/@umoteam/editor\">NPM</a></p><h2 style=\"text-align: start; line-height: 2\" id=\"grljqh\" data-toc-id=\"grljqh\"><b>Online Experience</b></h2><p style=\"text-align: start; line-height: 1.75rem\">Visit <a target=\"_blank\" rel=\"noreferrer\" class=\"_text-primary-600 _underline _decoration-from-font [text-underline-position:from-font]\" href=\"https://demo.umodoc.com/editor?pane=no&amp;lang=en\">Playground</a> for a fast experience.</p><h2 style=\"text-align: start; line-height: 2\" id=\"ozr47n\" data-toc-id=\"ozr47n\"><b>Documentation</b></h2><p style=\"text-align: start; line-height: 1.75rem\">Please visit <a target=\"_blank\" rel=\"noreferrer\" class=\"_text-primary-600 _underline _decoration-from-font [text-underline-position:from-font]\" href=\"https://editor.umodoc.com/en/docs\">Documentation</a>.</p><h2 style=\"text-align: start; line-height: 2\" id=\"m4sld9\" data-toc-id=\"m4sld9\"><b>Design Philosophy</b></h2><p style=\"text-align: start; line-height: 1.75rem\">The birth of Umo Editor aims to address the complexity of document editing in web applications, providing open-source and free powerful editing capabilities and pagination modes similar to Microsoft Word for web projects, while maintaining the convenience of web applications. Whether it's government and enterprise information management systems, academic research writing, team document collaboration, knowledge base management, or personal note organization, Umo Editor can be your capable assistant.</p><h2 style=\"text-align: start; line-height: 2\" id=\"m6qra8\" data-toc-id=\"m6qra8\"><b>Open Source Advantages</b></h2><ul style=\"list-style-type: disc\"><li><p style=\"line-height: 1.75rem\"><b>Free to Use</b>: As an open-source project, Umo Editor is freely available to all developers under the <a target=\"_blank\" rel=\"noreferrer\" class=\"_text-primary-600 _underline _decoration-from-font [text-underline-position:from-font]\" href=\"https://github.com/umo-editor/umo-editor/blob/main/LICENSE\">MIT License</a>, with no copyright concerns.</p></li><li><p style=\"line-height: 1.75rem\"><b>Continuous Updates</b>: Umo Editor will continue to iterate, constantly optimizing features and enhancing user experience.</p></li><li><p style=\"line-height: 1.75rem\"><b>Customizable Development</b>: Open source means greater flexibility. Developers can customize the development according to project needs to create a unique document editor.</p></li></ul><h2 style=\"text-align: start; line-height: 2\" id=\"x68on1\" data-toc-id=\"x68on1\"><b>Core Features</b></h2><ul style=\"list-style-type: disc\"><li><p>Zero-config out-of-the-box usability</p></li><li><p>Pagination mode similar to that in Microsoft Word</p></li><li><p>Lightweight</p></li><li><p>WYSIWYG (What You See Is What You Get) throughout the process</p></li><li><p>Rich-text editing capabilities</p></li><li><p>Markdown syntax support</p></li><li><p>Integrated practical tools</p></li><li><p>Presentation mode</p></li><li><p>Document export and sharing</p></li><li><p>Page settings</p></li><li><p>AI Assistant</p></li><li><p>Support for printing and print preview</p></li><li><p>Support for custom plugins</p></li><li><p>Shortcut key support</p></li><li><p>Theme customization</p></li><li><p>Multi-language settings</p></li><li><p>Dark mode support</p></li></ul><p style=\"text-align: start; line-height: 1.75rem\">For more detailed introductions, see <a target=\"_blank\" rel=\"noopener noreferrer nofollow\" class=\"_text-primary-600 _underline _decoration-from-font [text-underline-position:from-font]\" href=\"http://localhost:9002/en/docs/features\">Core Features</a>.</p><h2 style=\"text-align: start; line-height: 2\" id=\"ru4iz5\" data-toc-id=\"ru4iz5\"><b>Browser Support</b></h2><table style=\"min-width: 75px\"><colgroup><col style=\"min-width: 25px\"><col style=\"min-width: 25px\"><col style=\"min-width: 25px\"></colgroup><tbody><tr><th colspan=\"1\" rowspan=\"1\"><p><b>Browser</b></p></th><th colspan=\"1\" rowspan=\"1\"><p><b>Version</b></p></th><th colspan=\"1\" rowspan=\"1\"><p><b>Support</b></p></th></tr><tr><td colspan=\"1\" rowspan=\"1\"><p>Google Chrome</p></td><td colspan=\"1\" rowspan=\"1\"><p>Latest</p></td><td colspan=\"1\" rowspan=\"1\"><p>✅</p></td></tr><tr><td colspan=\"1\" rowspan=\"1\"><p>Firefox</p></td><td colspan=\"1\" rowspan=\"1\"><p>Latest</p></td><td colspan=\"1\" rowspan=\"1\"><p>✅</p></td></tr><tr><td colspan=\"1\" rowspan=\"1\"><p>Safari</p></td><td colspan=\"1\" rowspan=\"1\"><p>Latest</p></td><td colspan=\"1\" rowspan=\"1\"><p>✅</p></td></tr><tr><td colspan=\"1\" rowspan=\"1\"><p>Microsoft Edge</p></td><td colspan=\"1\" rowspan=\"1\"><p>Latest</p></td><td colspan=\"1\" rowspan=\"1\"><p>✅</p></td></tr><tr><td colspan=\"1\" rowspan=\"1\"><p>Internet Explorer (IE)</p></td><td colspan=\"1\" rowspan=\"1\"><p>All</p></td><td colspan=\"1\" rowspan=\"1\"><p>❌</p></td></tr></tbody></table><h2 style=\"text-align: start; line-height: 2\" id=\"mtrzq3\" data-toc-id=\"mtrzq3\"><b>Node.js Version Support</b></h2><p style=\"text-align: start; line-height: 1.75rem\">Node.js 18.0.0 or above.</p><h2 style=\"text-align: start; line-height: 2\" id=\"hdab7y\" data-toc-id=\"hdab7y\"><b>Join the Community</b></h2><p style=\"text-align: start; line-height: 1.75rem\">We encourage users to join the Umo Editor open-source community and participate in the development and improvement of the product. Whether submitting bug reports, feature requests, or code contributions, all are valuable parts of our community.</p><p style=\"text-align: start; line-height: 1.75rem\">You can submit issues or suggestions via <a target=\"_blank\" rel=\"noopener noreferrer nofollow\" href=\"https://github.com/umodoc/editor/discussions\">https://github.com/umodoc/editor/discussions</a>.</p><p style=\"text-align: start; line-height: 1.75rem\">Or submit bug reports via <a target=\"_blank\" rel=\"noopener noreferrer nofollow\" href=\"https://github.com/umodoc/editor/issues\">https://github.com/umodoc/editor/issues</a>.</p><h2 style=\"text-align: start; line-height: 2\" id=\"o5shhk\" data-toc-id=\"o5shhk\"><b>Contribute Code</b></h2><p style=\"line-height: 1.75rem\">The development of Umo Editor could not have been possible without the support of the community. Below is the list of contributors who have contributed code to Umo Editor. We extend our thanks to them:</p><ul style=\"list-style-type: disc\"><li><p><a target=\"_blank\" rel=\"noopener noreferrer nofollow\" href=\"https://github.com/umodoc\">Umo Team</a>: 👨‍💻 Core developers</p></li><li><p><a target=\"_blank\" rel=\"noopener noreferrer nofollow\" href=\"https://github.com/Cassielxd\">Cassielxd</a>: 💪🏻 Implemented pagination and many important features for Umo Editor</p></li><li><p><a target=\"_blank\" rel=\"noopener noreferrer nofollow\" href=\"https://github.com/Goldziher\">Na'aman Hirschfeld</a>:💪🏻 Enhanced TypeScript support, added tests, and provided a stronger foundation for Umo Editor's development</p></li><li><p><a target=\"_blank\" rel=\"noopener noreferrer nofollow\" href=\"https://github.com/SerRashin\">SerRashin</a>: 🛠️ Added Russian language support for Umo Editor</p></li><li><p><a target=\"_blank\" rel=\"noopener noreferrer nofollow\" href=\"https://github.com/ChenErik\">ChenErik</a>: 🛠️ Contributed code to Umo Editor</p></li><li><p><a target=\"_blank\" rel=\"noopener noreferrer nofollow\" href=\"https://github.com/china-wangxu\">china-wangxu</a>: 🛠️ Contributed code to Umo Editor</p></li><li><p><a target=\"_blank\" rel=\"noopener noreferrer nofollow\" href=\"https://github.com/Cassielxd\">xuzhenjun130</a>: 🛠️ Contributed code to Umo Editor</p></li></ul><p style=\"line-height: 1.75rem\">We welcome all forms of contributions, including but not limited to submitting bug reports, feature requests, and code contributions.</p><h2 style=\"text-align: start; line-height: 2\" id=\"nvu0c6\" data-toc-id=\"nvu0c6\"><b>Contact Us</b></h2><p style=\"text-align: start; line-height: 1.75rem\">If you have any questions or suggestions, please contact us through the following methods. Before that, it is recommended to read this document carefully to understand how to use Umo Editor.</p><ul style=\"list-style-type: disc\"><li><p>Feedback: <a target=\"_blank\" rel=\"noopener noreferrer nofollow\" href=\"https://github.com/umodoc/editor/issues\">https://github.com/umodoc/editor/issues</a></p></li><li><p>Community: <a target=\"_blank\" rel=\"noopener noreferrer nofollow\" href=\"https://github.com/umodoc/editor/discussions\">https://github.com/umodoc/editor/discussions</a></p></li><li><p>Email: <a target=\"_blank\" rel=\"noopener noreferrer nofollow\" href=\"mailto:contact@umoteam.com\">contact@umoteam.com</a></p></li></ul><h2 style=\"text-align: start; line-height: 2\" id=\"kyks3s\" data-toc-id=\"kyks3s\"><b>Support Us</b></h2><p style=\"text-align: start; line-height: 1.75rem\">If you find Umo Editor useful, please consider supporting us in the following ways:</p><ul style=\"list-style-type: disc\"><li><p>⭐ Star the <a target=\"_blank\" rel=\"noreferrer\" class=\"_text-primary-600 _underline _decoration-from-font [text-underline-position:from-font]\" href=\"https://github.com/umodoc/editor\">Umo Editor Repository</a> to show your support for the project.</p></li><li><p>🔗 If you use Umo Editor in your project, please add a link to <a target=\"_blank\" rel=\"noopener noreferrer nofollow\" href=\"https://github.com/umodoc/editor\">https://github.com/umodoc/editor</a>.</p></li></ul><h2 style=\"text-align: start; line-height: 2\" id=\"h2xfpo\" data-toc-id=\"h2xfpo\"><b>Open Source License</b></h2><p style=\"text-align: start; line-height: 1.75rem\">Umo Editor is licensed under the <a target=\"_blank\" rel=\"noreferrer\" class=\"_text-primary-600 _underline _decoration-from-font [text-underline-position:from-font]\" href=\"https://github.com/umodoc/editor/blob/main/LICENSE\">MIT License</a>, allowing you to use, modify, and distribute the software freely.</p><p style=\"text-align: start; line-height: 1.75rem\">This document is published under the <a target=\"_blank\" rel=\"noreferrer\" class=\"_text-primary-600 _underline _decoration-from-font [text-underline-position:from-font]\" href=\"https://creativecommons.org/licenses/by-nc-sa/4.0\">CC BY-NC-SA 4.0 DEED License</a>.</p>\n",
    "  </body>\n",
    "</html>\n",
    "'''"
   ]
  },
  {
   "cell_type": "code",
   "execution_count": 71,
   "id": "c68ab997-c6ce-4752-915a-e45ef5b46d16",
   "metadata": {},
   "outputs": [
    {
     "name": "stderr",
     "output_type": "stream",
     "text": [
      "/home/aurthurm/anaconda3/envs/felicity/lib/python3.12/site-packages/PIL/Image.py:1000: UserWarning: Palette images with Transparency expressed in bytes should be converted to RGBA images\n",
      "  warnings.warn(\n"
     ]
    },
    {
     "name": "stdout",
     "output_type": "stream",
     "text": [
      "Base64 Thumbnail (Compressed): /9j/4AAQSkZJRgABAQAAAQABAAD/2wBDAA0JCgsKCA0LCgsODg...\n"
     ]
    }
   ],
   "source": [
    "# Convert HTML to PDF bytes\n",
    "pdf_bytes = convert_html_to_pdf_bytes(html)\n",
    "\n",
    "if pdf_bytes:\n",
    "    compressed_thumbnail_base64 = get_compressed_thumbnail_base64(pdf_bytes)\n",
    "    \n",
    "    if compressed_thumbnail_base64:\n",
    "        print(f\"Base64 Thumbnail (Compressed): {compressed_thumbnail_base64[:50]}...\")  # Print first 50 chars\n",
    "    else:\n",
    "        print(\"Failed to generate compressed thumbnail preview.\")\n",
    "else:\n",
    "    print(\"Failed to generate PDF.\")"
   ]
  },
  {
   "cell_type": "code",
   "execution_count": 72,
   "id": "39ad0c6c-7eeb-46f4-99ed-2dfc670e98f4",
   "metadata": {},
   "outputs": [
    {
     "data": {
      "text/plain": [
       "'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'"
      ]
     },
     "execution_count": 72,
     "metadata": {},
     "output_type": "execute_result"
    }
   ],
   "source": [
    "compressed_thumbnail_base64"
   ]
  },
  {
   "cell_type": "code",
   "execution_count": null,
   "id": "70746e4c-82e0-44f8-ac61-36cb01e3e6c3",
   "metadata": {},
   "outputs": [],
   "source": []
  },
  {
   "cell_type": "code",
   "execution_count": null,
   "id": "5b6b7b94-d025-4e97-bdb2-712a4564e1ee",
   "metadata": {},
   "outputs": [],
   "source": []
  }
 ],
 "metadata": {
  "kernelspec": {
   "display_name": "Python 3 (ipykernel)",
   "language": "python",
   "name": "python3"
  },
  "language_info": {
   "codemirror_mode": {
    "name": "ipython",
    "version": 3
   },
   "file_extension": ".py",
   "mimetype": "text/x-python",
   "name": "python",
   "nbconvert_exporter": "python",
   "pygments_lexer": "ipython3",
   "version": "3.12.3"
  }
 },
 "nbformat": 4,
 "nbformat_minor": 5
}
